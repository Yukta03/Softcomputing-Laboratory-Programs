{
 "cells": [
  {
   "cell_type": "code",
   "execution_count": null,
   "metadata": {},
   "outputs": [],
   "source": [
    "Aim:Learning about the tools and installation of various environment in python.\n",
    "Jupyter Notebook\n",
    "Project Jupyter exists to develop open-source software, open-standards, and services for interactive computing across dozens of programming languages.\n",
    "The Jupyter Notebook is an open-source web application that allows you to create and share documents that contain live code, equations, visualizations and narrative text. Uses include: data cleaning and transformation, numerical simulation, statistical modeling, data visualization, machine learning, and much more.\n",
    "Functions:\n",
    "Language of choice\n",
    "Share Notebooks\n",
    "Interactive Output\n",
    "Big Data integration\n",
    "\n",
    "Installing Jupyter using Anaconda:-\n",
    "For new users, we highly recommend installing Anaconda. Anaconda conveniently installs Python, the Jupyter Notebook, and other commonly used packages for scientific computing and data science.\n",
    "Use the following installation steps:\n",
    "Download Anaconda. We recommend downloading Anaconda’s latest Python 3 version (currently Python 3.5).\n",
    "Install the version of Anaconda which you downloaded, following the instructions on the download page.\n",
    "Once you have installed Jupyter Notebook. To run the notebook:\n",
    "Click on launch jupyter notebook after starting Anaconda\n",
    "\n"
   ]
  }
 ],
 "metadata": {
  "kernelspec": {
   "display_name": "Python 3",
   "language": "python",
   "name": "python3"
  },
  "language_info": {
   "codemirror_mode": {
    "name": "ipython",
    "version": 3
   },
   "file_extension": ".py",
   "mimetype": "text/x-python",
   "name": "python",
   "nbconvert_exporter": "python",
   "pygments_lexer": "ipython3",
   "version": "3.7.3"
  }
 },
 "nbformat": 4,
 "nbformat_minor": 2
}
